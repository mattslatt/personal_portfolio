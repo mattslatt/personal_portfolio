{
 "cells": [
  {
   "cell_type": "code",
   "execution_count": 2,
   "metadata": {},
   "outputs": [
    {
     "name": "stdout",
     "output_type": "stream",
     "text": [
      "/home/matt/portfolio/personal_portfolio/spotify\n"
     ]
    }
   ],
   "source": [
    "import pandas as pd \n",
    "import numpy as np\n",
    "import scipy.stats as stats\n",
    "\n",
    "import seaborn as sn\n",
    "import matplotlib.pyplot as plt\n",
    "plt.style.use('ggplot')\n",
    "!pwd"
   ]
  },
  {
   "cell_type": "code",
   "execution_count": 3,
   "metadata": {},
   "outputs": [],
   "source": [
    "# Import spotify data\n",
    "tracks = pd.read_csv('./data/tracks.csv')\n",
    "artists = pd.read_csv('./data/artists.csv')"
   ]
  },
  {
   "cell_type": "code",
   "execution_count": 4,
   "metadata": {},
   "outputs": [
    {
     "name": "stdout",
     "output_type": "stream",
     "text": [
      "(298616, 5)\n"
     ]
    }
   ],
   "source": [
    "# Data cleaning\n",
    "\n",
    "# not all artists have genre tags -- remove them\n",
    "genre_df = artists[artists['genres'] != '[]'].copy()\n",
    "print(genre_df.shape)\n",
    "\n",
    "# clean and split genre tags\n",
    "genre_df['genres'] = genre_df.loc[:, 'genres'].str.strip(\"[]\")\n",
    "genre_split = genre_df.assign(genres=genre_df['genres'].str.split(', ')).explode('genres')\n",
    "genre_split['genres'] = genre_split.loc[:, 'genres'].str.strip(\"'\")"
   ]
  },
  {
   "cell_type": "code",
   "execution_count": 11,
   "metadata": {},
   "outputs": [
    {
     "name": "stdout",
     "output_type": "stream",
     "text": [
      "                     genres  genre_count\n",
      "1216              dance pop          572\n",
      "3877                    pop          568\n",
      "4210                   rock          564\n",
      "1586          electro house          558\n",
      "1050  classical performance          502\n",
      "2885                  latin          498\n",
      "2371             indie rock          485\n",
      "2216                hip hop          484\n",
      "3899                pop rap          467\n",
      "4079                    rap          461\n"
     ]
    },
    {
     "data": {
      "image/png": "[encoded data removed]",
      "text/plain": [
       "<Figure size 432x360 with 1 Axes>"
      ]
     },
     "metadata": {},
     "output_type": "display_data"
    }
   ],
   "source": [
    "# Create a new dataframe for genre counts\n",
    "\n",
    "genre_count = genre_split.groupby('genres').count().copy()\n",
    "genre_count['genre_count'] = genre_count['id']\n",
    "genre_count = genre_count.reset_index()\n",
    "genre_count = genre_count[['genres', 'genre_count']]\n",
    "print(genre_count.sort_values('genre_count', ascending=False).head(10))\n",
    "\n",
    "# How common are genres typically?\n",
    "\n",
    "fig, ax = plt.subplots(figsize=[6,5])\n",
    "ax.hist(genre_count['genre_count'], bins=50, color='mediumseagreen', histtype='bar', ec='black')\n",
    "ax.set_xlabel('# of artists tagged')\n",
    "ax.set_ylabel('Frequency')\n",
    "ax.set_title('Abundance of Artists Tagged For Each Genre')\n",
    "# ax.vlines(genre_count['genre_count'].quantile(0.5), 0, 800, colors='black',linestyles='dashed', label='50th percentile')\n",
    "# ax.legend(facecolor='white')\n",
    "plt.tight_layout()\n",
    "plt.savefig('/home/matt/portfolio/personal_portfolio/spotify/img/genre_count_histogram.png')"
   ]
  },
  {
   "cell_type": "code",
   "execution_count": 8,
   "metadata": {},
   "outputs": [
    {
     "data": {
      "text/html": [
       "<div>\n",
       "<style scoped>\n",
       "    .dataframe tbody tr th:only-of-type {\n",
       "        vertical-align: middle;\n",
       "    }\n",
       "\n",
       "    .dataframe tbody tr th {\n",
       "        vertical-align: top;\n",
       "    }\n",
       "\n",
       "    .dataframe thead th {\n",
       "        text-align: right;\n",
       "    }\n",
       "</style>\n",
       "<table border=\"1\" class=\"dataframe\">\n",
       "  <thead>\n",
       "    <tr style=\"text-align: right;\">\n",
       "      <th></th>\n",
       "      <th>id</th>\n",
       "      <th>followers</th>\n",
       "      <th>genres</th>\n",
       "      <th>name</th>\n",
       "      <th>popularity</th>\n",
       "    </tr>\n",
       "  </thead>\n",
       "  <tbody>\n",
       "    <tr>\n",
       "      <th>45</th>\n",
       "      <td>0VLMVnVbJyJ4oyZs2L3Yl2</td>\n",
       "      <td>71.0</td>\n",
       "      <td>carnaval cadiz</td>\n",
       "      <td>Las Viudas De Los Bisabuelos</td>\n",
       "      <td>6</td>\n",
       "    </tr>\n",
       "    <tr>\n",
       "      <th>46</th>\n",
       "      <td>0dt23bs4w8zx154C5xdVyl</td>\n",
       "      <td>63.0</td>\n",
       "      <td>carnaval cadiz</td>\n",
       "      <td>Los De Capuchinos</td>\n",
       "      <td>5</td>\n",
       "    </tr>\n",
       "    <tr>\n",
       "      <th>47</th>\n",
       "      <td>0pGhoB99qpEJEsBQxgaskQ</td>\n",
       "      <td>64.0</td>\n",
       "      <td>carnaval cadiz</td>\n",
       "      <td>Los “Pofesionales”</td>\n",
       "      <td>7</td>\n",
       "    </tr>\n",
       "    <tr>\n",
       "      <th>48</th>\n",
       "      <td>3HDrX2OtSuXLW5dLR85uN3</td>\n",
       "      <td>53.0</td>\n",
       "      <td>carnaval cadiz</td>\n",
       "      <td>Los Que No Paran De Rajar</td>\n",
       "      <td>6</td>\n",
       "    </tr>\n",
       "    <tr>\n",
       "      <th>136</th>\n",
       "      <td>22mLrN5fkppmuUPsHx6i2G</td>\n",
       "      <td>59.0</td>\n",
       "      <td>classical harp</td>\n",
       "      <td>Vera Dulova</td>\n",
       "      <td>3</td>\n",
       "    </tr>\n",
       "    <tr>\n",
       "      <th>...</th>\n",
       "      <td>...</td>\n",
       "      <td>...</td>\n",
       "      <td>...</td>\n",
       "      <td>...</td>\n",
       "      <td>...</td>\n",
       "    </tr>\n",
       "    <tr>\n",
       "      <th>1104328</th>\n",
       "      <td>1q9C5XlekzXbRLIuLCDTre</td>\n",
       "      <td>90087.0</td>\n",
       "      <td>teen pop</td>\n",
       "      <td>Brent Rivera</td>\n",
       "      <td>33</td>\n",
       "    </tr>\n",
       "    <tr>\n",
       "      <th>1104331</th>\n",
       "      <td>4fh2BIKYPFvXFsQLhaeVJp</td>\n",
       "      <td>309.0</td>\n",
       "      <td>la indie</td>\n",
       "      <td>Lone Kodiak</td>\n",
       "      <td>20</td>\n",
       "    </tr>\n",
       "    <tr>\n",
       "      <th>1104334</th>\n",
       "      <td>7akMsd2vb4xowNTehv3gsY</td>\n",
       "      <td>774.0</td>\n",
       "      <td>indie rockism</td>\n",
       "      <td>The Str!ke</td>\n",
       "      <td>0</td>\n",
       "    </tr>\n",
       "    <tr>\n",
       "      <th>1104336</th>\n",
       "      <td>35m7AJrUCtHYHyIUhCzmgi</td>\n",
       "      <td>205.0</td>\n",
       "      <td>indie rockism</td>\n",
       "      <td>Hunter Fraser</td>\n",
       "      <td>6</td>\n",
       "    </tr>\n",
       "    <tr>\n",
       "      <th>1104345</th>\n",
       "      <td>1ljurfXKPlGncNdW3J8zJ8</td>\n",
       "      <td>2123.0</td>\n",
       "      <td>deep acoustic pop</td>\n",
       "      <td>Right the Stars</td>\n",
       "      <td>18</td>\n",
       "    </tr>\n",
       "  </tbody>\n",
       "</table>\n",
       "<p>460843 rows × 5 columns</p>\n",
       "</div>"
      ],
      "text/plain": [
       "                             id  followers             genres  \\\n",
       "45       0VLMVnVbJyJ4oyZs2L3Yl2       71.0     carnaval cadiz   \n",
       "46       0dt23bs4w8zx154C5xdVyl       63.0     carnaval cadiz   \n",
       "47       0pGhoB99qpEJEsBQxgaskQ       64.0     carnaval cadiz   \n",
       "48       3HDrX2OtSuXLW5dLR85uN3       53.0     carnaval cadiz   \n",
       "136      22mLrN5fkppmuUPsHx6i2G       59.0     classical harp   \n",
       "...                         ...        ...                ...   \n",
       "1104328  1q9C5XlekzXbRLIuLCDTre    90087.0           teen pop   \n",
       "1104331  4fh2BIKYPFvXFsQLhaeVJp      309.0           la indie   \n",
       "1104334  7akMsd2vb4xowNTehv3gsY      774.0      indie rockism   \n",
       "1104336  35m7AJrUCtHYHyIUhCzmgi      205.0      indie rockism   \n",
       "1104345  1ljurfXKPlGncNdW3J8zJ8     2123.0  deep acoustic pop   \n",
       "\n",
       "                                 name  popularity  \n",
       "45       Las Viudas De Los Bisabuelos           6  \n",
       "46                  Los De Capuchinos           5  \n",
       "47                 Los “Pofesionales”           7  \n",
       "48          Los Que No Paran De Rajar           6  \n",
       "136                       Vera Dulova           3  \n",
       "...                               ...         ...  \n",
       "1104328                  Brent Rivera          33  \n",
       "1104331                   Lone Kodiak          20  \n",
       "1104334                    The Str!ke           0  \n",
       "1104336                 Hunter Fraser           6  \n",
       "1104345               Right the Stars          18  \n",
       "\n",
       "[460843 rows x 5 columns]"
      ]
     },
     "execution_count": 8,
     "metadata": {},
     "output_type": "execute_result"
    }
   ],
   "source": []
  }
 ],
 "metadata": {
  "interpreter": {
   "hash": "8029c709e84c1a8abd9d2c4be48a613c22badb8b8c37d71c0b0342174a8af14c"
  },
  "kernelspec": {
   "display_name": "Python 3.8.10 64-bit ('base': conda)",
   "name": "python3"
  },
  "language_info": {
   "codemirror_mode": {
    "name": "ipython",
    "version": 3
   },
   "file_extension": ".py",
   "mimetype": "text/x-python",
   "name": "python",
   "nbconvert_exporter": "python",
   "pygments_lexer": "ipython3",
   "version": "3.8.10"
  },
  "orig_nbformat": 4
 },
 "nbformat": 4,
 "nbformat_minor": 2
}
